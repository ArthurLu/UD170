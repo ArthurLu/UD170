{
 "cells": [
  {
   "cell_type": "markdown",
   "metadata": {},
   "source": [
    "# NumPy Arrays"
   ]
  },
  {
   "cell_type": "code",
   "execution_count": 11,
   "metadata": {
    "collapsed": false
   },
   "outputs": [],
   "source": [
    "import numpy as np\n",
    "\n",
    "# First 20 countries with employment data\n",
    "countries = np.array([\n",
    "    'Afghanistan', 'Albania', 'Algeria', 'Angola', 'Argentina',\n",
    "    'Armenia', 'Australia', 'Austria', 'Azerbaijan', 'Bahamas',\n",
    "    'Bahrain', 'Bangladesh', 'Barbados', 'Belarus', 'Belgium',\n",
    "    'Belize', 'Benin', 'Bhutan', 'Bolivia',\n",
    "    'Bosnia and Herzegovina'\n",
    "])\n",
    "\n",
    "# Employment data in 2007 for those 20 countries\n",
    "employment = np.array([\n",
    "    55.70000076,  51.40000153,  50.5       ,  75.69999695,\n",
    "    58.40000153,  40.09999847,  61.5       ,  57.09999847,\n",
    "    60.90000153,  66.59999847,  60.40000153,  68.09999847,\n",
    "    66.90000153,  53.40000153,  48.59999847,  56.79999924,\n",
    "    71.59999847,  58.40000153,  70.40000153,  41.20000076\n",
    "])"
   ]
  },
  {
   "cell_type": "markdown",
   "metadata": {},
   "source": [
    "## Accessing elements"
   ]
  },
  {
   "cell_type": "code",
   "execution_count": 7,
   "metadata": {
    "collapsed": false
   },
   "outputs": [
    {
     "name": "stdout",
     "output_type": "stream",
     "text": [
      "Afghanistan\n",
      "Angola\n"
     ]
    }
   ],
   "source": [
    "print countries[0]\n",
    "print countries[3]"
   ]
  },
  {
   "cell_type": "markdown",
   "metadata": {},
   "source": [
    "## Slicing"
   ]
  },
  {
   "cell_type": "code",
   "execution_count": 8,
   "metadata": {
    "collapsed": false
   },
   "outputs": [
    {
     "name": "stdout",
     "output_type": "stream",
     "text": [
      "['Afghanistan' 'Albania' 'Algeria']\n",
      "['Afghanistan' 'Albania' 'Algeria']\n",
      "['Bhutan' 'Bolivia' 'Bosnia and Herzegovina']\n",
      "['Afghanistan' 'Albania' 'Algeria' 'Angola' 'Argentina' 'Armenia'\n",
      " 'Australia' 'Austria' 'Azerbaijan' 'Bahamas' 'Bahrain' 'Bangladesh'\n",
      " 'Barbados' 'Belarus' 'Belgium' 'Belize' 'Benin' 'Bhutan' 'Bolivia'\n",
      " 'Bosnia and Herzegovina']\n"
     ]
    }
   ],
   "source": [
    "print countries[0:3]\n",
    "print countries[:3]\n",
    "print countries[17:]\n",
    "print countries[:]"
   ]
  },
  {
   "cell_type": "markdown",
   "metadata": {},
   "source": [
    "## Element Types"
   ]
  },
  {
   "cell_type": "code",
   "execution_count": 9,
   "metadata": {
    "collapsed": false
   },
   "outputs": [
    {
     "name": "stdout",
     "output_type": "stream",
     "text": [
      "|S22\n",
      "float64\n",
      "int64\n",
      "float64\n",
      "bool\n",
      "|S2\n"
     ]
    }
   ],
   "source": [
    "print countries.dtype\n",
    "print employment.dtype\n",
    "print np.array([0, 1, 2, 3]).dtype\n",
    "print np.array([1.0, 1.5, 2.0, 2.5]).dtype\n",
    "print np.array([True, False, True]).dtype\n",
    "print np.array(['AL', 'AK', 'AZ', 'AR', 'CA']).dtype"
   ]
  },
  {
   "cell_type": "markdown",
   "metadata": {},
   "source": [
    "## Looping"
   ]
  },
  {
   "cell_type": "code",
   "execution_count": 10,
   "metadata": {
    "collapsed": false
   },
   "outputs": [
    {
     "name": "stdout",
     "output_type": "stream",
     "text": [
      "Examining country Afghanistan\n",
      "Examining country Albania\n",
      "Examining country Algeria\n",
      "Examining country Angola\n",
      "Examining country Argentina\n",
      "Examining country Armenia\n",
      "Examining country Australia\n",
      "Examining country Austria\n",
      "Examining country Azerbaijan\n",
      "Examining country Bahamas\n",
      "Examining country Bahrain\n",
      "Examining country Bangladesh\n",
      "Examining country Barbados\n",
      "Examining country Belarus\n",
      "Examining country Belgium\n",
      "Examining country Belize\n",
      "Examining country Benin\n",
      "Examining country Bhutan\n",
      "Examining country Bolivia\n",
      "Examining country Bosnia and Herzegovina\n",
      "Country Afghanistan has employment 55.70000076\n",
      "Country Albania has employment 51.40000153\n",
      "Country Algeria has employment 50.5\n",
      "Country Angola has employment 75.69999695\n",
      "Country Argentina has employment 58.40000153\n",
      "Country Armenia has employment 40.09999847\n",
      "Country Australia has employment 61.5\n",
      "Country Austria has employment 57.09999847\n",
      "Country Azerbaijan has employment 60.90000153\n",
      "Country Bahamas has employment 66.59999847\n",
      "Country Bahrain has employment 60.40000153\n",
      "Country Bangladesh has employment 68.09999847\n",
      "Country Barbados has employment 66.90000153\n",
      "Country Belarus has employment 53.40000153\n",
      "Country Belgium has employment 48.59999847\n",
      "Country Belize has employment 56.79999924\n",
      "Country Benin has employment 71.59999847\n",
      "Country Bhutan has employment 58.40000153\n",
      "Country Bolivia has employment 70.40000153\n",
      "Country Bosnia and Herzegovina has employment 41.20000076\n"
     ]
    }
   ],
   "source": [
    "for country in countries:\n",
    "    print 'Examining country {}'.format(country)\n",
    "for i in range(len(countries)):\n",
    "    country = countries[i]\n",
    "    country_employment = employment[i]\n",
    "    print 'Country {} has employment {}'.format(country,\n",
    "            country_employment)"
   ]
  },
  {
   "cell_type": "markdown",
   "metadata": {},
   "source": [
    "## Numpy functions"
   ]
  },
  {
   "cell_type": "code",
   "execution_count": 12,
   "metadata": {
    "collapsed": false
   },
   "outputs": [
    {
     "name": "stdout",
     "output_type": "stream",
     "text": [
      "58.6850000385\n",
      "9.33826911369\n",
      "75.69999695\n",
      "1173.70000077\n"
     ]
    }
   ],
   "source": [
    "print employment.mean()\n",
    "print employment.std()\n",
    "print employment.max()\n",
    "print employment.sum()"
   ]
  },
  {
   "cell_type": "markdown",
   "metadata": {
    "collapsed": true
   },
   "source": [
    "## Max Employment"
   ]
  },
  {
   "cell_type": "code",
   "execution_count": 15,
   "metadata": {
    "collapsed": false
   },
   "outputs": [
    {
     "data": {
      "text/plain": [
       "('Angola', 75.699996949999999)"
      ]
     },
     "execution_count": 15,
     "metadata": {},
     "output_type": "execute_result"
    }
   ],
   "source": [
    "def max_employment(countries, employment):\n",
    "    i = employment.argmax()\n",
    "    return (countries[i], employment[i])\n",
    "\n",
    "max_employment(countries, employment)"
   ]
  },
  {
   "cell_type": "markdown",
   "metadata": {
    "collapsed": true
   },
   "source": [
    "## Arithmetic operations between 2 NumPy arrays"
   ]
  },
  {
   "cell_type": "code",
   "execution_count": 16,
   "metadata": {
    "collapsed": false
   },
   "outputs": [
    {
     "name": "stdout",
     "output_type": "stream",
     "text": [
      "[2 4 4 6]\n",
      "[0 0 2 2]\n",
      "[1 4 3 8]\n",
      "[1 1 3 2]\n",
      "[ 1  4  3 16]\n"
     ]
    }
   ],
   "source": [
    "a = np.array([1, 2, 3, 4])\n",
    "b = np.array([1, 2, 1, 2])\n",
    "\n",
    "print a + b\n",
    "print a - b\n",
    "print a * b\n",
    "print a / b\n",
    "print a ** b"
   ]
  },
  {
   "cell_type": "markdown",
   "metadata": {
    "collapsed": true
   },
   "source": [
    "## Arithmetic operations between a NumPy array and a single number"
   ]
  },
  {
   "cell_type": "code",
   "execution_count": 17,
   "metadata": {
    "collapsed": false
   },
   "outputs": [
    {
     "name": "stdout",
     "output_type": "stream",
     "text": [
      "[3 4 5 6]\n",
      "[-1  0  1  2]\n",
      "[2 4 6 8]\n",
      "[0 1 1 2]\n",
      "[ 1  4  9 16]\n"
     ]
    }
   ],
   "source": [
    "a = np.array([1, 2, 3, 4])\n",
    "b = 2\n",
    "\n",
    "print a + b\n",
    "print a - b\n",
    "print a * b\n",
    "print a / b\n",
    "print a ** b"
   ]
  },
  {
   "cell_type": "markdown",
   "metadata": {
    "collapsed": true
   },
   "source": [
    "## Logical operations with NumPy arrays"
   ]
  },
  {
   "cell_type": "code",
   "execution_count": 19,
   "metadata": {
    "collapsed": false
   },
   "outputs": [
    {
     "name": "stdout",
     "output_type": "stream",
     "text": [
      "[ True False False False]\n",
      "[ True  True  True False]\n",
      "[False False  True  True]\n",
      "[ True  True False False]\n",
      "[False False False False]\n",
      "[ True  True  True  True]\n",
      "[ True  True False False]\n"
     ]
    }
   ],
   "source": [
    "a = np.array([True, True, False, False])\n",
    "b = np.array([True, False, True, False])\n",
    "\n",
    "print a & b\n",
    "print a | b\n",
    "print ~a\n",
    "print a & True\n",
    "print a & False\n",
    "print a | True\n",
    "print a | False"
   ]
  },
  {
   "cell_type": "markdown",
   "metadata": {
    "collapsed": true
   },
   "source": [
    "## Comparison operations between 2 NumPy Arrays"
   ]
  },
  {
   "cell_type": "code",
   "execution_count": 20,
   "metadata": {
    "collapsed": false
   },
   "outputs": [
    {
     "name": "stdout",
     "output_type": "stream",
     "text": [
      "[False False False  True  True]\n",
      "[False False  True  True  True]\n",
      "[ True  True False False False]\n",
      "[ True  True  True False False]\n",
      "[False False  True False False]\n",
      "[ True  True False  True  True]\n"
     ]
    }
   ],
   "source": [
    "a = np.array([1, 2, 3, 4, 5])\n",
    "b = np.array([5, 4, 3, 2, 1])\n",
    "\n",
    "print a > b\n",
    "print a >= b\n",
    "print a < b\n",
    "print a <= b\n",
    "print a == b\n",
    "print a != b"
   ]
  },
  {
   "cell_type": "markdown",
   "metadata": {
    "collapsed": true
   },
   "source": [
    "## Comparison operations between a NumPy array and a single number"
   ]
  },
  {
   "cell_type": "code",
   "execution_count": 21,
   "metadata": {
    "collapsed": false
   },
   "outputs": [
    {
     "name": "stdout",
     "output_type": "stream",
     "text": [
      "[False False  True  True]\n",
      "[False  True  True  True]\n",
      "[ True False False False]\n",
      "[ True  True False False]\n",
      "[False  True False False]\n",
      "[ True False  True  True]\n"
     ]
    }
   ],
   "source": [
    "a = np.array([1, 2, 3, 4])\n",
    "b = 2\n",
    "\n",
    "print a > b\n",
    "print a >= b\n",
    "print a < b\n",
    "print a <= b\n",
    "print a == b\n",
    "print a != b"
   ]
  },
  {
   "cell_type": "markdown",
   "metadata": {
    "collapsed": true
   },
   "source": [
    "## Overall Completion Rate"
   ]
  },
  {
   "cell_type": "code",
   "execution_count": 22,
   "metadata": {
    "collapsed": false
   },
   "outputs": [
    {
     "name": "stdout",
     "output_type": "stream",
     "text": [
      "[  96.416025  102.644275  101.41129    93.316285  103.455575   98.148215\n",
      "  102.35113    91.77855    92.835475   89.655755   99.218715   98.484275\n",
      "   94.172835  117.335125   98.275645   33.04039    41.905225   90.962965\n",
      "   57.08404    93.06015 ]\n"
     ]
    }
   ],
   "source": [
    "# Female school completion rate in 2007 for those 20 countries\n",
    "female_completion = np.array([\n",
    "    97.35583,  104.62379,  103.02998,   95.14321,  103.69019,\n",
    "    98.49185,  100.88828,   95.43974,   92.11484,   91.54804,\n",
    "    95.98029,   98.22902,   96.12179,  119.28105,   97.84627,\n",
    "    29.07386,   38.41644,   90.70509,   51.7478 ,   95.45072\n",
    "])\n",
    "\n",
    "# Male school completion rate in 2007 for those 20 countries\n",
    "male_completion = np.array([\n",
    "     95.47622,  100.66476,   99.7926 ,   91.48936,  103.22096,\n",
    "     97.80458,  103.81398,   88.11736,   93.55611,   87.76347,\n",
    "    102.45714,   98.73953,   92.22388,  115.3892 ,   98.70502,\n",
    "     37.00692,   45.39401,   91.22084,   62.42028,   90.66958\n",
    "])\n",
    "\n",
    "def overall_completion_rate(female_completion, male_completion):\n",
    "    return (female_completion + male_completion) * 0.5\n",
    "print overall_completion_rate(female_completion, male_completion)"
   ]
  },
  {
   "cell_type": "markdown",
   "metadata": {},
   "source": [
    "# Standardizing Data"
   ]
  },
  {
   "cell_type": "code",
   "execution_count": 24,
   "metadata": {
    "collapsed": false
   },
   "outputs": [
    {
     "name": "stdout",
     "output_type": "stream",
     "text": [
      "-0.780122999221\n"
     ]
    }
   ],
   "source": [
    "# Employment data in 2007 for those 20 countries\n",
    "employment = np.array([\n",
    "    55.70000076,  51.40000153,  50.5       ,  75.69999695,\n",
    "    58.40000153,  40.09999847,  61.5       ,  57.09999847,\n",
    "    60.90000153,  66.59999847,  60.40000153,  68.09999847,\n",
    "    66.90000153,  53.40000153,  48.59999847,  56.79999924,\n",
    "    71.59999847,  58.40000153,  70.40000153,  41.20000076\n",
    "])\n",
    "\n",
    "def standardize_data(values):\n",
    "    mean = values.mean()\n",
    "    std = values.std()\n",
    "    return (values - mean) / std\n",
    "\n",
    "country_name = 'Albania'\n",
    "employment_std = standardize_data(employment)\n",
    "for i in range(len(employment)):\n",
    "    if country_name == countries[i]:\n",
    "        print employment_std[i]"
   ]
  },
  {
   "cell_type": "code",
   "execution_count": null,
   "metadata": {
    "collapsed": true
   },
   "outputs": [],
   "source": []
  }
 ],
 "metadata": {
  "kernelspec": {
   "display_name": "Python 2",
   "language": "python",
   "name": "python2"
  },
  "language_info": {
   "codemirror_mode": {
    "name": "ipython",
    "version": 2
   },
   "file_extension": ".py",
   "mimetype": "text/x-python",
   "name": "python",
   "nbconvert_exporter": "python",
   "pygments_lexer": "ipython2",
   "version": "2.7.11"
  }
 },
 "nbformat": 4,
 "nbformat_minor": 0
}
